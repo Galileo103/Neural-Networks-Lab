{
 "cells": [
  {
   "cell_type": "markdown",
   "metadata": {},
   "source": [
    "# Assigment 1 \n",
    "## Neural Networks Lab"
   ]
  },
  {
   "cell_type": "code",
   "execution_count": 1,
   "metadata": {
    "collapsed": true
   },
   "outputs": [],
   "source": [
    "import numpy as np"
   ]
  },
  {
   "cell_type": "markdown",
   "metadata": {},
   "source": [
    "# Q1:\n",
    "+ sigmoid fn and its gradient."
   ]
  },
  {
   "cell_type": "code",
   "execution_count": 2,
   "metadata": {
    "collapsed": true
   },
   "outputs": [],
   "source": [
    "def sigmoid(x, derivative=False):\n",
    "    # gradient of sigmoid func.\n",
    "    if derivative == True:\n",
    "        return x * (1 - x)\n",
    "    # sigmoid fn \n",
    "    return 1.0 / (1 + (np.exp(-x)))"
   ]
  },
  {
   "cell_type": "code",
   "execution_count": 3,
   "metadata": {},
   "outputs": [
    {
     "name": "stdout",
     "output_type": "stream",
     "text": [
      "[3 1 6]\n"
     ]
    },
    {
     "data": {
      "text/plain": [
       "array([ 0.95257413,  0.73105858,  0.99752738])"
      ]
     },
     "execution_count": 3,
     "metadata": {},
     "output_type": "execute_result"
    }
   ],
   "source": [
    "# get array of random 3 elements\n",
    "x = np.array(np.random.randint(1,10,3))\n",
    "print(x)\n",
    "# use gradient of sigmoid func\n",
    "sigmoid(x)"
   ]
  },
  {
   "cell_type": "code",
   "execution_count": 4,
   "metadata": {},
   "outputs": [
    {
     "name": "stdout",
     "output_type": "stream",
     "text": [
      "[6 1 7]\n"
     ]
    },
    {
     "data": {
      "text/plain": [
       "array([-30,   0, -42])"
      ]
     },
     "execution_count": 4,
     "metadata": {},
     "output_type": "execute_result"
    }
   ],
   "source": [
    "# get array of random 3 elements\n",
    "x = np.array(np.random.randint(1,10,3))\n",
    "print(x)\n",
    "# use sigmoid fn \n",
    "sigmoid(x, derivative=True)"
   ]
  },
  {
   "cell_type": "markdown",
   "metadata": {},
   "source": [
    "# Q2:\n",
    "+ Image2vector fn."
   ]
  },
  {
   "cell_type": "code",
   "execution_count": 5,
   "metadata": {
    "collapsed": true
   },
   "outputs": [],
   "source": [
    "def image2vector(img):\n",
    "    # reshape by (length*height*depth, 1) means many rows and only one column\n",
    "    return img.reshape(img.shape[0]*img.shape[1]*img.shape[2],1)"
   ]
  },
  {
   "cell_type": "code",
   "execution_count": 6,
   "metadata": {},
   "outputs": [
    {
     "name": "stdout",
     "output_type": "stream",
     "text": [
      "[[[ 1.  1.  1.]\n",
      "  [ 1.  1.  1.]]\n",
      "\n",
      " [[ 1.  1.  1.]\n",
      "  [ 1.  1.  1.]]]\n"
     ]
    },
    {
     "data": {
      "text/plain": [
       "array([[ 1.],\n",
       "       [ 1.],\n",
       "       [ 1.],\n",
       "       [ 1.],\n",
       "       [ 1.],\n",
       "       [ 1.],\n",
       "       [ 1.],\n",
       "       [ 1.],\n",
       "       [ 1.],\n",
       "       [ 1.],\n",
       "       [ 1.],\n",
       "       [ 1.]])"
      ]
     },
     "execution_count": 6,
     "metadata": {},
     "output_type": "execute_result"
    }
   ],
   "source": [
    "# make a 3D array as image\n",
    "img = np.ones((2,2,3))\n",
    "print(img)\n",
    "image2vector(img)"
   ]
  },
  {
   "cell_type": "markdown",
   "metadata": {},
   "source": [
    "# Q3:\n",
    "+ Normalize matrix rows fn"
   ]
  },
  {
   "cell_type": "code",
   "execution_count": 7,
   "metadata": {
    "collapsed": true
   },
   "outputs": [],
   "source": [
    "def normalizeRows(x):\n",
    "    x_norm = np.linalg.norm(x, axis = 1, keepdims = True)\n",
    "    return x / x_norm"
   ]
  },
  {
   "cell_type": "code",
   "execution_count": 8,
   "metadata": {},
   "outputs": [
    {
     "name": "stdout",
     "output_type": "stream",
     "text": [
      "[[5 1 6]\n",
      " [3 1 4]]\n"
     ]
    },
    {
     "data": {
      "text/plain": [
       "array([[ 0.63500064,  0.12700013,  0.76200076],\n",
       "       [ 0.58834841,  0.19611614,  0.78446454]])"
      ]
     },
     "execution_count": 8,
     "metadata": {},
     "output_type": "execute_result"
    }
   ],
   "source": [
    "x = np.array(np.random.randint(0,9,6).reshape(2,3))\n",
    "print(x)\n",
    "normalizeRows(x)"
   ]
  },
  {
   "cell_type": "markdown",
   "metadata": {},
   "source": [
    "# Q4:\n",
    "+ L1 and L2 loss fns"
   ]
  },
  {
   "cell_type": "code",
   "execution_count": 9,
   "metadata": {
    "collapsed": true
   },
   "outputs": [],
   "source": [
    "def loseFunc1(predicted, truth):\n",
    "    # the sum of the absolute values of the difference of 2 vectors\n",
    "    return sum(abs(truth - predicted))"
   ]
  },
  {
   "cell_type": "code",
   "execution_count": 10,
   "metadata": {},
   "outputs": [
    {
     "name": "stdout",
     "output_type": "stream",
     "text": [
      "predicted values [3 8 7 3 3]\n",
      "truth values [0 1 2 3 4]\n"
     ]
    },
    {
     "data": {
      "text/plain": [
       "16"
      ]
     },
     "execution_count": 10,
     "metadata": {},
     "output_type": "execute_result"
    }
   ],
   "source": [
    "predicted = np.array(np.random.randint(0,10,5))\n",
    "print(\"predicted values\",predicted)\n",
    "truth = np.array(np.arange(0,5))\n",
    "print(\"truth values\",truth)\n",
    "loseFunc1(predicted, truth)"
   ]
  },
  {
   "cell_type": "code",
   "execution_count": 11,
   "metadata": {
    "collapsed": true
   },
   "outputs": [],
   "source": [
    "def loseFunc2(predicted, truth):\n",
    "    # the sum of the squared difference of 2 vectors\n",
    "    return sum((truth - predicted)**2)"
   ]
  },
  {
   "cell_type": "code",
   "execution_count": 12,
   "metadata": {},
   "outputs": [
    {
     "name": "stdout",
     "output_type": "stream",
     "text": [
      "predicted values [1 7 0 4 5]\n",
      "truth values [0 1 2 3 4]\n"
     ]
    },
    {
     "data": {
      "text/plain": [
       "43"
      ]
     },
     "execution_count": 12,
     "metadata": {},
     "output_type": "execute_result"
    }
   ],
   "source": [
    "predicted = np.array(np.random.randint(0,10,5))\n",
    "print(\"predicted values\",predicted)\n",
    "truth = np.array(np.arange(0,5))\n",
    "print(\"truth values\",truth)\n",
    "loseFunc2(predicted, truth)"
   ]
  },
  {
   "cell_type": "code",
   "execution_count": null,
   "metadata": {
    "collapsed": true
   },
   "outputs": [],
   "source": []
  }
 ],
 "metadata": {
  "kernelspec": {
   "display_name": "Python 3",
   "language": "python",
   "name": "python3"
  },
  "language_info": {
   "codemirror_mode": {
    "name": "ipython",
    "version": 3
   },
   "file_extension": ".py",
   "mimetype": "text/x-python",
   "name": "python",
   "nbconvert_exporter": "python",
   "pygments_lexer": "ipython3",
   "version": "3.6.1"
  }
 },
 "nbformat": 4,
 "nbformat_minor": 2
}
