{
 "cells": [
  {
   "cell_type": "code",
   "execution_count": 7,
   "metadata": {},
   "outputs": [
    {
     "name": "stderr",
     "output_type": "stream",
     "text": [
      "Using TensorFlow backend.\n"
     ]
    }
   ],
   "source": [
    "import numpy as np\n",
    "import pandas as pd\n",
    "import matplotlib.pyplot as plt\n",
    "import keras\n",
    "from keras.datasets import mnist\n",
    "from keras.models import Sequential\n",
    "from keras.layers import Dense, Dropout\n",
    "from keras.optimizers import RMSprop\n",
    "from keras.layers.advanced_activations import LeakyReLU\n",
    "%matplotlib inline"
   ]
  },
  {
   "cell_type": "code",
   "execution_count": 45,
   "metadata": {},
   "outputs": [
    {
     "name": "stdout",
     "output_type": "stream",
     "text": [
      "Train size: 60000\n",
      "Test size: 10000\n"
     ]
    }
   ],
   "source": [
    "(x_train, y_train), (x_test, y_test) = mnist.load_data(path='t10k-labels-idx1-ubyte.gz')\n",
    "\n",
    "num_classes = 26\n",
    "x_train = x_train.reshape(60000, 784)\n",
    "x_test = x_test.reshape(10000, 784)\n",
    "x_train = x_train.astype('float32')\n",
    "x_test = x_test.astype('float32')\n",
    "x_train /= 255\n",
    "x_test /= 255\n",
    "y_train = keras.utils.to_categorical(y_train, num_classes)\n",
    "y_test = keras.utils.to_categorical(y_test, num_classes)\n",
    "\n",
    "\n",
    "print ('Train size:', x_train.shape[0])\n",
    "print ('Test size:', x_test.shape[0])"
   ]
  },
  {
   "cell_type": "code",
   "execution_count": 61,
   "metadata": {},
   "outputs": [
    {
     "name": "stdout",
     "output_type": "stream",
     "text": [
      "dense_9 (None, 784) ==> (None, 26)\n",
      "dense_10 (None, 26) ==> (None, 26)\n",
      "\n",
      "_________________________________________________________________\n",
      "Layer (type)                 Output Shape              Param #   \n",
      "=================================================================\n",
      "dense_9 (Dense)              (None, 26)                20410     \n",
      "_________________________________________________________________\n",
      "dense_10 (Dense)             (None, 26)                702       \n",
      "=================================================================\n",
      "Total params: 21,112\n",
      "Trainable params: 21,112\n",
      "Non-trainable params: 0\n",
      "_________________________________________________________________\n",
      "None\n"
     ]
    }
   ],
   "source": [
    "model = Sequential()\n",
    "model.add(Dense(26, activation='relu', input_shape=(784,)))\n",
    "model.add(Dense(num_classes, activation='softmax'))\n",
    "\n",
    "for l in model.layers:\n",
    "    print( l.name, l.input_shape,'==>',l.output_shape)\n",
    "print()\n",
    "print( model.summary())"
   ]
  },
  {
   "cell_type": "code",
   "execution_count": 62,
   "metadata": {},
   "outputs": [
    {
     "name": "stdout",
     "output_type": "stream",
     "text": [
      "Train on 60000 samples, validate on 10000 samples\n",
      "Epoch 1/5\n",
      "60000/60000 [==============================] - 2s 33us/step - loss: 0.5870 - acc: 0.8521 - val_loss: 0.2964 - val_acc: 0.9162\n",
      "Epoch 2/5\n",
      "60000/60000 [==============================] - 2s 27us/step - loss: 0.2781 - acc: 0.9209 - val_loss: 0.2461 - val_acc: 0.9310\n",
      "Epoch 3/5\n",
      "60000/60000 [==============================] - 2s 29us/step - loss: 0.2400 - acc: 0.9323 - val_loss: 0.2226 - val_acc: 0.9381\n",
      "Epoch 4/5\n",
      "60000/60000 [==============================] - 2s 26us/step - loss: 0.2156 - acc: 0.9386 - val_loss: 0.2058 - val_acc: 0.9403\n",
      "Epoch 5/5\n",
      "60000/60000 [==============================] - 2s 26us/step - loss: 0.1976 - acc: 0.9434 - val_loss: 0.1968 - val_acc: 0.9427\n",
      "\n",
      "Test loss: 0.197\n",
      "Test accuracy: 0.943\n"
     ]
    },
    {
     "data": {
      "text/plain": [
       "<matplotlib.legend.Legend at 0x1a2bd951828>"
      ]
     },
     "execution_count": 62,
     "metadata": {},
     "output_type": "execute_result"
    },
    {
     "data": {
      "image/png": "[encoded data removed]",
      "text/plain": [
       "<matplotlib.figure.Figure at 0x1a2bc87e518>"
      ]
     },
     "metadata": {},
     "output_type": "display_data"
    }
   ],
   "source": [
    "batch_size = 128\n",
    "epochs = 5\n",
    "\n",
    "model.compile(loss='categorical_crossentropy',\n",
    "              optimizer=RMSprop(),\n",
    "              metrics=['accuracy'])\n",
    "    \n",
    "history = model.fit(x_train, y_train,\n",
    "                    batch_size=batch_size,\n",
    "                    epochs=epochs,\n",
    "                    verbose=1,\n",
    "                    validation_data=(x_test, y_test))\n",
    "\n",
    "score = model.evaluate(x_test, y_test, verbose=100)\n",
    "\n",
    "print()\n",
    "print( 'Test loss:', round(score[0], 3))\n",
    "print( 'Test accuracy:', round(score[1], 3))\n",
    "plt.plot(history.history['loss'])\n",
    "plt.plot(history.history['val_loss'])\n",
    "plt.title('model loss')\n",
    "plt.ylabel('loss')\n",
    "plt.xlabel('epoch')\n",
    "plt.legend(['train', 'test'], loc='upper left')"
   ]
  },
  {
   "cell_type": "code",
   "execution_count": 63,
   "metadata": {
    "collapsed": true
   },
   "outputs": [],
   "source": [
    "for layer in model.layers:\n",
    "    weights = layer.get_weights() # list of numpy arrays"
   ]
  },
  {
   "cell_type": "code",
   "execution_count": 64,
   "metadata": {},
   "outputs": [
    {
     "data": {
      "text/plain": [
       "2"
      ]
     },
     "execution_count": 64,
     "metadata": {},
     "output_type": "execute_result"
    }
   ],
   "source": [
    "len(weights)"
   ]
  },
  {
   "cell_type": "code",
   "execution_count": 65,
   "metadata": {},
   "outputs": [
    {
     "data": {
      "text/plain": [
       "[array([[-0.58514351,  0.46148169,  0.43132839, -0.22726999, -0.23295489,\n",
       "         -0.22419065,  0.1582022 ,  0.25571033,  0.30208534, -0.03307213,\n",
       "         -0.56412983, -0.31240153, -0.13943082, -0.39250174, -0.53595722,\n",
       "         -0.72105169, -0.17239498, -0.72828782, -0.03537374, -0.45164263,\n",
       "         -0.45128596, -0.47984564, -0.44207209, -0.16784345, -0.44412285,\n",
       "         -0.21512401],\n",
       "        [ 0.27863145, -0.49035737,  0.07286943, -0.17879736, -0.25160202,\n",
       "          0.35129628,  0.11654895, -0.25191689,  0.37410435,  0.20550057,\n",
       "         -0.26282123, -0.31152534, -0.27565375, -0.36755642, -0.26140097,\n",
       "         -0.25795394, -0.49101654, -0.13183217,  0.01117733, -0.4225173 ,\n",
       "         -0.08729099, -0.0018551 , -0.54487038, -0.56316513, -0.615529  ,\n",
       "         -0.49022084],\n",
       "        [ 0.35320771,  0.15571705,  0.69749129, -0.13786304, -1.0216558 ,\n",
       "         -0.44116709, -0.30331311, -0.05856011, -0.09549635, -1.02109957,\n",
       "         -0.49493867, -0.30175543, -0.43542102, -0.07166853, -0.38416362,\n",
       "         -0.4885515 , -0.20088401, -0.33444029,  0.02494922, -0.14635733,\n",
       "         -0.2153821 , -0.03516522, -0.06578421, -0.12750173, -0.03938808,\n",
       "         -0.67125779],\n",
       "        [ 0.09729259,  0.27215534, -0.00124841, -0.50876069,  0.18615155,\n",
       "         -0.50587469,  0.08920575, -0.34516785,  0.34181157,  0.16888611,\n",
       "         -0.1994984 , -0.37720156, -0.18030843, -0.53143126, -0.10492518,\n",
       "         -0.56188774, -0.34496143, -0.25555503, -0.49993697, -0.30508965,\n",
       "         -0.42192629, -0.42906553, -0.67696202, -0.39131138, -0.07951872,\n",
       "         -0.54299635],\n",
       "        [-0.53468287,  0.53041482, -0.29824096, -0.48346967,  0.23876409,\n",
       "         -0.2382239 ,  0.44453466,  0.03900824, -0.29162586, -0.15107515,\n",
       "         -0.44036755, -0.51601881, -0.10530042, -0.23969057, -0.58395183,\n",
       "         -0.30791581, -0.55426651, -0.56525928, -0.61666256, -0.65597081,\n",
       "         -0.41668665, -0.21582796, -0.33732766, -0.25533149, -0.43757945,\n",
       "         -0.33531886],\n",
       "        [ 0.28261864,  0.13924821,  0.1048118 ,  0.36804679,  0.16634987,\n",
       "          0.31717843,  0.01531068, -0.43062678,  0.16840529, -0.44461662,\n",
       "         -0.21167628, -0.24916053, -0.38682693, -0.19581179, -0.50844109,\n",
       "         -0.38147673, -0.54779154, -0.3943826 , -0.59169114, -0.16831768,\n",
       "         -0.61639863, -0.12594722, -0.09711619, -0.46857706, -0.41295511,\n",
       "         -0.37510633],\n",
       "        [ 0.2834661 , -0.13694751,  0.36508718,  0.13269497,  0.13179128,\n",
       "          0.41943377,  0.27792683, -0.12619992,  0.28579611, -0.00356722,\n",
       "         -0.36106399, -0.09187848, -0.67985976, -0.43721014, -0.50149351,\n",
       "         -0.35568616, -0.625175  , -0.20216338, -0.64486879, -0.37746015,\n",
       "         -0.35637093, -0.73340446, -0.30135348, -0.34775987, -0.05957533,\n",
       "         -0.14777741],\n",
       "        [-0.2947382 , -0.43123838, -0.29092568, -0.07114834,  0.46743795,\n",
       "          0.36929569, -0.66771543,  0.29999396,  0.08614195,  0.18246849,\n",
       "         -0.15849367, -0.42226252, -0.29358804, -0.67150807, -0.08049762,\n",
       "         -0.10568795, -0.10229624, -0.51584888, -0.16561803, -0.22000393,\n",
       "         -0.12283148, -0.09649486, -0.53167516, -0.41940141, -0.46292317,\n",
       "         -0.12602195],\n",
       "        [ 0.08259949, -0.51101631, -0.20814258,  0.14176112,  0.10809031,\n",
       "         -0.30710217,  0.44444653,  0.34144074,  0.16663186, -0.09551944,\n",
       "         -0.32964447, -0.51177907, -0.26598331, -0.51155418, -0.38498223,\n",
       "         -0.48937687, -0.55603069, -0.14507845, -0.24687934, -0.1596172 ,\n",
       "         -0.27185392, -0.66199547, -0.5689618 , -0.21627145, -0.20746702,\n",
       "         -0.2329143 ],\n",
       "        [ 0.4219996 ,  0.02145441, -0.20936283, -0.35571998, -0.03614954,\n",
       "          0.08625506, -0.11999653,  0.23248567,  0.24808823,  0.29789403,\n",
       "         -0.42681244, -0.50433493, -0.65796793, -0.18252319, -0.1413669 ,\n",
       "         -0.51648581, -0.29845393, -0.68983638, -0.47979996, -0.1096105 ,\n",
       "         -0.36553955, -0.66888756, -0.16930516, -0.52181262, -0.46558127,\n",
       "         -0.48125437],\n",
       "        [ 0.38419664, -0.13265091,  0.45970294, -0.0071685 ,  0.09727557,\n",
       "         -0.04581495,  0.25419614, -0.51381379, -0.28533348,  0.03632079,\n",
       "         -0.48923278, -0.34363288, -0.5907864 , -0.14118768, -0.57024801,\n",
       "         -0.1280992 , -0.31184843, -0.59286469, -0.02147936, -0.66091835,\n",
       "         -0.21124239, -0.16144477, -0.33287355, -0.12775627,  0.01428151,\n",
       "         -0.60717261],\n",
       "        [-0.07019769,  0.34871933,  0.04983404,  0.46776009,  0.24337204,\n",
       "         -0.4036046 , -0.60639942,  0.12165691,  0.0642771 ,  0.32445729,\n",
       "         -0.33503658, -0.68314683, -0.56101662, -0.39084303, -0.38642424,\n",
       "         -0.30424842, -0.41592646, -0.20167255, -0.65495694, -0.69722521,\n",
       "         -0.50635266, -0.24064992, -0.44885659, -0.20239122, -0.64011824,\n",
       "         -0.66144013],\n",
       "        [ 0.23473622, -0.55758041,  0.24257474,  0.3673813 ,  0.12376228,\n",
       "         -0.12090158,  0.15885672,  0.03144061, -0.37857422,  0.21133953,\n",
       "         -0.17664309, -0.16409369, -0.30733868, -0.3158398 , -0.2219484 ,\n",
       "         -0.22843492, -0.26375464, -0.26057857, -0.40259269, -0.39464515,\n",
       "         -0.49726251, -0.11274699, -0.23872338, -0.149811  , -0.54331446,\n",
       "         -0.26814499],\n",
       "        [-0.19780053,  0.15279534,  0.16793393, -0.34107855,  0.04413779,\n",
       "         -0.25093231,  0.07173491, -0.42495918, -0.38913283, -0.88178807,\n",
       "         -0.42866227, -0.44730568, -0.58348107, -0.15407184, -0.27607512,\n",
       "         -0.44511077, -0.34770593, -0.21538346,  0.0295215 , -0.45588845,\n",
       "         -0.38006625, -0.45183522, -0.49177635, -0.17767194, -0.48095605,\n",
       "         -0.02866721],\n",
       "        [-0.03125089, -0.43561885, -0.00328472, -0.52828687, -0.81090224,\n",
       "          0.64217079, -0.30464199,  0.68172061, -0.01768395, -0.67099935,\n",
       "          0.01391342, -0.03751781, -0.0356441 ,  0.04608659, -0.1564289 ,\n",
       "         -0.32692423, -0.36080232, -0.2327828 ,  0.01038819, -0.44588161,\n",
       "         -0.13864739,  0.13969322,  0.13000683,  0.05389204, -0.30292296,\n",
       "         -0.06740523],\n",
       "        [-0.5039255 , -0.11084425, -0.24587435, -0.26129156, -0.16850284,\n",
       "          0.12850493,  0.24852841, -0.39777735, -0.11728249,  0.4276309 ,\n",
       "         -0.48606309, -0.19273338, -0.19909737, -0.46926579, -0.44184691,\n",
       "         -0.6023401 , -0.30041471, -0.35468498, -0.30009127, -0.68385935,\n",
       "         -0.15797555, -0.48436037, -0.12588081, -0.52847433, -0.67857379,\n",
       "         -0.15219188],\n",
       "        [-0.01292051,  0.34274897,  0.43766209,  0.52077073, -0.57190233,\n",
       "         -0.17963858, -0.47393215,  0.09334424,  0.31447673,  0.12618379,\n",
       "         -0.23370649, -0.61481351, -0.47026855, -0.57664853, -0.63085222,\n",
       "         -0.18915151, -0.21391821, -0.57314712, -0.31195557, -0.61083442,\n",
       "         -0.41070658, -0.34758192, -0.31081155, -0.49385348, -0.46368095,\n",
       "         -0.37522468],\n",
       "        [-0.43798193,  0.48108876, -0.26367053,  0.16400005, -0.43801445,\n",
       "          0.20462637,  0.37620544,  0.07611078,  0.31013313, -0.23521326,\n",
       "         -0.53982574, -0.21265836, -0.42053318, -0.68379354, -0.25352523,\n",
       "         -0.23495965, -0.59253204, -0.36906382, -0.4683015 , -0.32494217,\n",
       "         -0.39486274, -0.67380232, -0.35002998, -0.3544338 , -0.12133508,\n",
       "         -0.49158761],\n",
       "        [-0.551943  , -0.04790358, -0.05937734, -0.30652925,  0.22920869,\n",
       "         -0.33261839, -0.42019525,  0.35799453,  0.24870361,  0.29900011,\n",
       "         -0.6635893 , -0.64196825, -0.16157284, -0.06055128, -0.25747514,\n",
       "         -0.28700179, -0.58017677, -0.72660077, -0.44545272, -0.09559184,\n",
       "         -0.1425636 , -0.0761872 , -0.14569408, -0.6319055 , -0.60054761,\n",
       "         -0.23232129],\n",
       "        [-0.35581398, -0.51730394,  0.38501939, -0.46030384,  0.08515386,\n",
       "         -0.73234469, -0.09488866,  0.4699454 , -0.47776833, -0.20157245,\n",
       "          0.04785467, -0.17427523, -0.18457569, -0.58874434, -0.40859112,\n",
       "         -0.51886976, -0.10477447, -0.6239323 , -0.30178127, -0.03548325,\n",
       "         -0.58406395, -0.56634009,  0.0483741 , -0.33882296, -0.31334573,\n",
       "         -0.45032901],\n",
       "        [-0.65576506, -0.32499221, -0.37482959,  0.19545913, -0.24919809,\n",
       "          0.72720039,  0.14190294, -0.82215714,  0.10802779,  0.37498906,\n",
       "         -0.08831127, -0.52096355, -0.35492611, -0.25660735, -0.32429001,\n",
       "         -0.12683882, -0.0276927 , -0.28802142,  0.04461826, -0.29183558,\n",
       "         -0.21161431,  0.011642  , -0.1373186 , -0.3907156 , -0.4289107 ,\n",
       "         -0.53594816],\n",
       "        [ 0.0932064 ,  0.17284285, -0.08588034,  0.04826186,  0.08457832,\n",
       "          0.64368868,  0.23705712,  0.30669129, -0.78589839, -0.17896868,\n",
       "         -0.12994841, -0.24576536, -0.34032372, -0.27890313, -0.32287559,\n",
       "         -0.20143142, -0.1200621 , -0.37805137, -0.52579898, -0.65912032,\n",
       "         -0.11777119, -0.30276537, -0.58539236, -0.44849887, -0.20989202,\n",
       "         -0.434423  ],\n",
       "        [-0.06988569,  0.21969301, -0.37712058,  0.08091504,  0.46022671,\n",
       "          0.3201746 , -0.22879763, -0.17863365, -0.13405128, -0.02449869,\n",
       "         -0.5551129 , -0.64643759, -0.43568832, -0.2541993 , -0.19092356,\n",
       "         -0.36694971, -0.44998816, -0.47501224, -0.52430892, -0.21603103,\n",
       "         -0.67608172, -0.2796509 , -0.62901181, -0.50932813, -0.30421302,\n",
       "         -0.73866391],\n",
       "        [-0.66323519, -0.3883619 , -0.2486386 ,  0.25524774,  0.45149162,\n",
       "         -0.16522278,  0.10793707,  0.04126143,  0.16459699, -0.12523317,\n",
       "         -0.39858392, -0.50365567, -0.1576032 , -0.5191794 , -0.56067783,\n",
       "         -0.22140847, -0.44835129, -0.07776936, -0.53051722, -0.20546041,\n",
       "         -0.36612976, -0.66906226, -0.33142328, -0.54557216, -0.33767611,\n",
       "         -0.60451412],\n",
       "        [ 0.42245474, -0.30270696, -0.46897098,  0.17201363, -0.24592899,\n",
       "          0.22750273, -0.41662294,  0.13255812, -0.24837729,  0.38495356,\n",
       "         -0.70019937, -0.1659309 , -0.51296932, -0.3415589 , -0.56614041,\n",
       "         -0.40773228, -0.19594842, -0.14383999, -0.15744475, -0.37665188,\n",
       "         -0.61483812, -0.42422578, -0.59580183, -0.29687995, -0.49811947,\n",
       "         -0.18924046],\n",
       "        [-0.54608643,  0.42251533,  0.12937582,  0.34082431, -0.47663367,\n",
       "          0.34256554, -0.39050102,  0.51727867, -0.29226857, -0.30830091,\n",
       "         -0.30379945, -0.40065107, -0.32697517, -0.32800987, -0.47241017,\n",
       "         -0.42791897, -0.24980149, -0.12160878, -0.5329175 , -0.18034539,\n",
       "         -0.1434257 , -0.62673885, -0.63806599, -0.56553859, -0.35094646,\n",
       "         -0.2083519 ]], dtype=float32),\n",
       " array([ 0.02734278,  0.18584886,  0.05351713, -0.06563773,  0.13547885,\n",
       "         0.30021554, -0.01039812,  0.10972062, -0.3292363 ,  0.06106978,\n",
       "        -0.30628607, -0.28755367, -0.37362856, -0.34113833, -0.2592952 ,\n",
       "        -0.40928009, -0.44226864, -0.38842028, -0.28482664, -0.35121816,\n",
       "        -0.39700526, -0.31857604, -0.30650619, -0.29921967, -0.28884861,\n",
       "        -0.38938564], dtype=float32)]"
      ]
     },
     "execution_count": 65,
     "metadata": {},
     "output_type": "execute_result"
    }
   ],
   "source": [
    "weights"
   ]
  },
  {
   "cell_type": "code",
   "execution_count": null,
   "metadata": {
    "collapsed": true
   },
   "outputs": [],
   "source": []
  }
 ],
 "metadata": {
  "kernelspec": {
   "display_name": "Python 3",
   "language": "python",
   "name": "python3"
  },
  "language_info": {
   "codemirror_mode": {
    "name": "ipython",
    "version": 3
   },
   "file_extension": ".py",
   "mimetype": "text/x-python",
   "name": "python",
   "nbconvert_exporter": "python",
   "pygments_lexer": "ipython3",
   "version": "3.5.4"
  }
 },
 "nbformat": 4,
 "nbformat_minor": 2
}
